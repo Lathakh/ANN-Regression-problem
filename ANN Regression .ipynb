{
 "cells": [
  {
   "cell_type": "code",
   "execution_count": 1,
   "metadata": {},
   "outputs": [],
   "source": [
    "import pandas as pd\n",
    "import numpy as np\n"
   ]
  },
  {
   "cell_type": "code",
   "execution_count": 2,
   "metadata": {},
   "outputs": [],
   "source": [
    "data= pd.read_csv(\"50_Startups.csv\")"
   ]
  },
  {
   "cell_type": "code",
   "execution_count": 3,
   "metadata": {},
   "outputs": [
    {
     "data": {
      "text/html": [
       "<div>\n",
       "<style scoped>\n",
       "    .dataframe tbody tr th:only-of-type {\n",
       "        vertical-align: middle;\n",
       "    }\n",
       "\n",
       "    .dataframe tbody tr th {\n",
       "        vertical-align: top;\n",
       "    }\n",
       "\n",
       "    .dataframe thead th {\n",
       "        text-align: right;\n",
       "    }\n",
       "</style>\n",
       "<table border=\"1\" class=\"dataframe\">\n",
       "  <thead>\n",
       "    <tr style=\"text-align: right;\">\n",
       "      <th></th>\n",
       "      <th>R&amp;D Spend</th>\n",
       "      <th>Administration</th>\n",
       "      <th>Marketing Spend</th>\n",
       "      <th>State</th>\n",
       "      <th>Profit</th>\n",
       "    </tr>\n",
       "  </thead>\n",
       "  <tbody>\n",
       "    <tr>\n",
       "      <th>0</th>\n",
       "      <td>165349.20</td>\n",
       "      <td>136897.80</td>\n",
       "      <td>471784.10</td>\n",
       "      <td>New York</td>\n",
       "      <td>192261.83</td>\n",
       "    </tr>\n",
       "    <tr>\n",
       "      <th>1</th>\n",
       "      <td>162597.70</td>\n",
       "      <td>151377.59</td>\n",
       "      <td>443898.53</td>\n",
       "      <td>California</td>\n",
       "      <td>191792.06</td>\n",
       "    </tr>\n",
       "    <tr>\n",
       "      <th>2</th>\n",
       "      <td>153441.51</td>\n",
       "      <td>101145.55</td>\n",
       "      <td>407934.54</td>\n",
       "      <td>Florida</td>\n",
       "      <td>191050.39</td>\n",
       "    </tr>\n",
       "    <tr>\n",
       "      <th>3</th>\n",
       "      <td>144372.41</td>\n",
       "      <td>118671.85</td>\n",
       "      <td>383199.62</td>\n",
       "      <td>New York</td>\n",
       "      <td>182901.99</td>\n",
       "    </tr>\n",
       "    <tr>\n",
       "      <th>4</th>\n",
       "      <td>142107.34</td>\n",
       "      <td>91391.77</td>\n",
       "      <td>366168.42</td>\n",
       "      <td>Florida</td>\n",
       "      <td>166187.94</td>\n",
       "    </tr>\n",
       "  </tbody>\n",
       "</table>\n",
       "</div>"
      ],
      "text/plain": [
       "   R&D Spend  Administration  Marketing Spend       State     Profit\n",
       "0  165349.20       136897.80        471784.10    New York  192261.83\n",
       "1  162597.70       151377.59        443898.53  California  191792.06\n",
       "2  153441.51       101145.55        407934.54     Florida  191050.39\n",
       "3  144372.41       118671.85        383199.62    New York  182901.99\n",
       "4  142107.34        91391.77        366168.42     Florida  166187.94"
      ]
     },
     "execution_count": 3,
     "metadata": {},
     "output_type": "execute_result"
    }
   ],
   "source": [
    "data.head()"
   ]
  },
  {
   "cell_type": "code",
   "execution_count": 6,
   "metadata": {},
   "outputs": [
    {
     "data": {
      "text/plain": [
       "(108, 5)"
      ]
     },
     "execution_count": 6,
     "metadata": {},
     "output_type": "execute_result"
    }
   ],
   "source": [
    "data.shape"
   ]
  },
  {
   "cell_type": "code",
   "execution_count": 7,
   "metadata": {},
   "outputs": [
    {
     "data": {
      "text/plain": [
       "R&D Spend          0\n",
       "Administration     0\n",
       "Marketing Spend    0\n",
       "State              0\n",
       "Profit             0\n",
       "dtype: int64"
      ]
     },
     "execution_count": 7,
     "metadata": {},
     "output_type": "execute_result"
    }
   ],
   "source": [
    "data.isnull().sum()"
   ]
  },
  {
   "cell_type": "code",
   "execution_count": 11,
   "metadata": {},
   "outputs": [],
   "source": [
    "from sklearn.preprocessing import LabelEncoder\n",
    "le=LabelEncoder()\n",
    "data['State']=le.fit_transform(data['State'])"
   ]
  },
  {
   "cell_type": "code",
   "execution_count": 20,
   "metadata": {},
   "outputs": [],
   "source": [
    "x=data.iloc[:,:4].values"
   ]
  },
  {
   "cell_type": "code",
   "execution_count": 22,
   "metadata": {},
   "outputs": [],
   "source": [
    "y=data.iloc[:,[4]].values\n"
   ]
  },
  {
   "cell_type": "code",
   "execution_count": 23,
   "metadata": {},
   "outputs": [],
   "source": [
    "from sklearn.model_selection import train_test_split\n",
    "x_train,x_test,y_train,y_test=train_test_split(x,y,test_size=0.2,random_state=0)"
   ]
  },
  {
   "cell_type": "code",
   "execution_count": 24,
   "metadata": {},
   "outputs": [],
   "source": [
    "from keras.models import Sequential\n",
    "from keras.layers import Dense"
   ]
  },
  {
   "cell_type": "code",
   "execution_count": 25,
   "metadata": {},
   "outputs": [],
   "source": [
    "model=Sequential()"
   ]
  },
  {
   "cell_type": "code",
   "execution_count": 26,
   "metadata": {},
   "outputs": [],
   "source": [
    "#input layer\n",
    "model.add(Dense(4,activation='relu'))\n",
    "# 1st hidden layer\n",
    "model.add(Dense(8,activation='relu'))\n",
    "# 2nd hidden layer\n",
    "model.add(Dense(16,activation='relu'))\n",
    "# output layer\n",
    "model.add(Dense(1,activation=\"linear\"))"
   ]
  },
  {
   "cell_type": "code",
   "execution_count": 31,
   "metadata": {},
   "outputs": [],
   "source": [
    "model.compile(optimizer=\"adam\",loss=\"mean_squared_error\",metrics=['mae'])"
   ]
  },
  {
   "cell_type": "code",
   "execution_count": 43,
   "metadata": {},
   "outputs": [
    {
     "name": "stdout",
     "output_type": "stream",
     "text": [
      "Epoch 1/30\n",
      "3/3 [==============================] - 0s 17ms/step - loss: 245535312.0000 - mae: 12442.3965\n",
      "Epoch 2/30\n",
      "3/3 [==============================] - 0s 22ms/step - loss: 243981744.0000 - mae: 12427.1240\n",
      "Epoch 3/30\n",
      "3/3 [==============================] - 0s 40ms/step - loss: 243105696.0000 - mae: 12423.7676\n",
      "Epoch 4/30\n",
      "3/3 [==============================] - 0s 45ms/step - loss: 241564224.0000 - mae: 12406.3193\n",
      "Epoch 5/30\n",
      "3/3 [==============================] - 0s 22ms/step - loss: 240522480.0000 - mae: 12402.3994\n",
      "Epoch 6/30\n",
      "3/3 [==============================] - 0s 32ms/step - loss: 239442496.0000 - mae: 12400.0469\n",
      "Epoch 7/30\n",
      "3/3 [==============================] - 0s 13ms/step - loss: 238717600.0000 - mae: 12400.2568\n",
      "Epoch 8/30\n",
      "3/3 [==============================] - 0s 43ms/step - loss: 237902256.0000 - mae: 12401.3486\n",
      "Epoch 9/30\n",
      "3/3 [==============================] - 0s 56ms/step - loss: 237217984.0000 - mae: 12394.5391\n",
      "Epoch 10/30\n",
      "3/3 [==============================] - 0s 17ms/step - loss: 236463936.0000 - mae: 12387.2168\n",
      "Epoch 11/30\n",
      "3/3 [==============================] - 0s 15ms/step - loss: 235631408.0000 - mae: 12375.1104\n",
      "Epoch 12/30\n",
      "3/3 [==============================] - 0s 24ms/step - loss: 235208080.0000 - mae: 12371.9307\n",
      "Epoch 13/30\n",
      "3/3 [==============================] - 0s 14ms/step - loss: 234879744.0000 - mae: 12366.3359\n",
      "Epoch 14/30\n",
      "3/3 [==============================] - 0s 12ms/step - loss: 234108528.0000 - mae: 12343.1494\n",
      "Epoch 15/30\n",
      "3/3 [==============================] - 0s 14ms/step - loss: 233671936.0000 - mae: 12331.0977\n",
      "Epoch 16/30\n",
      "3/3 [==============================] - ETA: 0s - loss: 247082208.0000 - mae: 12700.650 - 0s 9ms/step - loss: 233207872.0000 - mae: 12324.3428\n",
      "Epoch 17/30\n",
      "3/3 [==============================] - 0s 12ms/step - loss: 232987648.0000 - mae: 12316.9131\n",
      "Epoch 18/30\n",
      "3/3 [==============================] - 0s 13ms/step - loss: 232454864.0000 - mae: 12302.2881\n",
      "Epoch 19/30\n",
      "3/3 [==============================] - 0s 10ms/step - loss: 232058736.0000 - mae: 12297.2881\n",
      "Epoch 20/30\n",
      "3/3 [==============================] - 0s 12ms/step - loss: 231754448.0000 - mae: 12292.9551\n",
      "Epoch 21/30\n",
      "3/3 [==============================] - 0s 16ms/step - loss: 231467584.0000 - mae: 12292.0498\n",
      "Epoch 22/30\n",
      "3/3 [==============================] - 0s 10ms/step - loss: 230908768.0000 - mae: 12277.5693\n",
      "Epoch 23/30\n",
      "3/3 [==============================] - 0s 12ms/step - loss: 230646672.0000 - mae: 12271.7559\n",
      "Epoch 24/30\n",
      "3/3 [==============================] - 0s 8ms/step - loss: 230407184.0000 - mae: 12262.7295\n",
      "Epoch 25/30\n",
      "3/3 [==============================] - 0s 8ms/step - loss: 230219968.0000 - mae: 12262.5039\n",
      "Epoch 26/30\n",
      "3/3 [==============================] - 0s 12ms/step - loss: 229659104.0000 - mae: 12248.9219\n",
      "Epoch 27/30\n",
      "3/3 [==============================] - 0s 8ms/step - loss: 229419312.0000 - mae: 12247.1846\n",
      "Epoch 28/30\n",
      "3/3 [==============================] - 0s 9ms/step - loss: 229101424.0000 - mae: 12241.3906\n",
      "Epoch 29/30\n",
      "3/3 [==============================] - 0s 10ms/step - loss: 228793648.0000 - mae: 12239.6719\n",
      "Epoch 30/30\n",
      "3/3 [==============================] - 0s 10ms/step - loss: 228351360.0000 - mae: 12232.6865\n"
     ]
    },
    {
     "data": {
      "text/plain": [
       "<tensorflow.python.keras.callbacks.History at 0x1de5cbf64c0>"
      ]
     },
     "execution_count": 43,
     "metadata": {},
     "output_type": "execute_result"
    }
   ],
   "source": [
    "model.fit(x_train,y_train,epochs=30)"
   ]
  },
  {
   "cell_type": "code",
   "execution_count": 44,
   "metadata": {},
   "outputs": [],
   "source": [
    "prediction=model.predict(x_test)"
   ]
  },
  {
   "cell_type": "code",
   "execution_count": 45,
   "metadata": {},
   "outputs": [
    {
     "data": {
      "text/plain": [
       "array([[ 64926.08],\n",
       "       [146121.95],\n",
       "       [ 90708.19],\n",
       "       [191050.39],\n",
       "       [108552.04],\n",
       "       [144259.4 ],\n",
       "       [124266.9 ],\n",
       "       [155752.6 ],\n",
       "       [126992.93],\n",
       "       [ 42559.73],\n",
       "       [101004.64],\n",
       "       [110352.25],\n",
       "       [ 64926.08],\n",
       "       [111313.02],\n",
       "       [ 89949.14],\n",
       "       [134307.35],\n",
       "       [134307.35],\n",
       "       [ 96712.8 ],\n",
       "       [ 49490.75],\n",
       "       [129917.04],\n",
       "       [132602.65],\n",
       "       [152211.77]])"
      ]
     },
     "execution_count": 45,
     "metadata": {},
     "output_type": "execute_result"
    }
   ],
   "source": [
    "y_test"
   ]
  },
  {
   "cell_type": "code",
   "execution_count": 46,
   "metadata": {},
   "outputs": [
    {
     "data": {
      "text/plain": [
       "array([[ 55188.92 ],\n",
       "       [117248.09 ],\n",
       "       [ 87446.39 ],\n",
       "       [176960.19 ],\n",
       "       [ 97180.64 ],\n",
       "       [115317.91 ],\n",
       "       [127419.36 ],\n",
       "       [153524.67 ],\n",
       "       [115665.58 ],\n",
       "       [ 60166.496],\n",
       "       [112626.14 ],\n",
       "       [124630.16 ],\n",
       "       [ 55188.92 ],\n",
       "       [130012.695],\n",
       "       [ 74831.93 ],\n",
       "       [126463.95 ],\n",
       "       [126463.95 ],\n",
       "       [114262.805],\n",
       "       [ 95943.75 ],\n",
       "       [130305.41 ],\n",
       "       [153769.22 ],\n",
       "       [147694.62 ]], dtype=float32)"
      ]
     },
     "execution_count": 46,
     "metadata": {},
     "output_type": "execute_result"
    }
   ],
   "source": [
    "prediction"
   ]
  },
  {
   "cell_type": "code",
   "execution_count": 47,
   "metadata": {},
   "outputs": [
    {
     "data": {
      "text/plain": [
       "0.767506481010429"
      ]
     },
     "execution_count": 47,
     "metadata": {},
     "output_type": "execute_result"
    }
   ],
   "source": [
    "from sklearn.metrics import r2_score\n",
    "r2_score(y_test,prediction)"
   ]
  },
  {
   "cell_type": "code",
   "execution_count": null,
   "metadata": {},
   "outputs": [],
   "source": []
  }
 ],
 "metadata": {
  "kernelspec": {
   "display_name": "Python 3",
   "language": "python",
   "name": "python3"
  },
  "language_info": {
   "codemirror_mode": {
    "name": "ipython",
    "version": 3
   },
   "file_extension": ".py",
   "mimetype": "text/x-python",
   "name": "python",
   "nbconvert_exporter": "python",
   "pygments_lexer": "ipython3",
   "version": "3.8.3"
  }
 },
 "nbformat": 4,
 "nbformat_minor": 2
}
